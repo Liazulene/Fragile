{
 "cells": [
  {
   "cell_type": "code",
   "execution_count": 1,
   "metadata": {},
   "outputs": [
    {
     "name": "stdout",
     "output_type": "stream",
     "text": [
      "1000 99.95543134093475 0.0\n",
      "10000 100.00083333194445 0.0\n",
      "100000 100.00083333194445 2.0003318786621094\n",
      "1000000 100.00083333194445 27.913570404052734\n"
     ]
    }
   ],
   "source": [
    "import time\n",
    "from numpy import *\n",
    "beta=1./100\n",
    "terms_list=[1000, 10000, 100000, 1000000]\n",
    "\n",
    "for terms in terms_list:\n",
    "    start = time.time()\n",
    "    E = arange(terms) + 0.5\n",
    "    weight = exp(-beta*E)\n",
    "    Z = sum(weight)\n",
    "    S = sum(weight*E)\n",
    "    d = time.time()-start\n",
    "    print(terms,S/Z,d*1e3)"
   ]
  },
  {
   "attachments": {},
   "cell_type": "markdown",
   "metadata": {},
   "source": [
    "中文测试"
   ]
  },
  {
   "attachments": {},
   "cell_type": "markdown",
   "metadata": {},
   "source": []
  }
 ],
 "metadata": {
  "kernelspec": {
   "display_name": "Python 3 (ipykernel)",
   "language": "python",
   "name": "python3"
  },
  "language_info": {
   "codemirror_mode": {
    "name": "ipython",
    "version": 3
   },
   "file_extension": ".py",
   "mimetype": "text/x-python",
   "name": "python",
   "nbconvert_exporter": "python",
   "pygments_lexer": "ipython3",
   "version": "3.10.9"
  },
  "vscode": {
   "interpreter": {
    "hash": "88279d2366fe020547cde40dd65aa0e3aa662a6ec1f3ca12d88834876c85e1a6"
   }
  }
 },
 "nbformat": 4,
 "nbformat_minor": 2
}
