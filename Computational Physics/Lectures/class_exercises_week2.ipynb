{
 "cells": [
  {
   "cell_type": "markdown",
   "metadata": {},
   "source": [
    "# 课堂练习 （第二周）\n",
    "## 计算机浮点数的表示"
   ]
  },
  {
   "cell_type": "code",
   "execution_count": 1,
   "metadata": {},
   "outputs": [
    {
     "name": "stdout",
     "output_type": "stream",
     "text": [
      "4.440892098500626e-16\n",
      "False\n"
     ]
    }
   ],
   "source": [
    "# Check the following calculation\n",
    "from math import sqrt\n",
    "\n",
    "a = 2\n",
    "b = sqrt(2)\n",
    "\n",
    "print(b**2 - a)\n",
    "print(a == b**2)    # 判断是否相等，输出应为False"
   ]
  },
  {
   "cell_type": "code",
   "execution_count": 2,
   "metadata": {},
   "outputs": [
    {
     "name": "stdout",
     "output_type": "stream",
     "text": [
      "0 4.49423283715579e+307\n",
      "1 8.98846567431158e+307\n",
      "2 inf\n"
     ]
    }
   ],
   "source": [
    "# Overflow case\n",
    "\n",
    "large = 2.**1021\n",
    "for i in range(3):\n",
    "    large *= 2\n",
    "    print(i, large)"
   ]
  },
  {
   "cell_type": "code",
   "execution_count": 3,
   "metadata": {},
   "outputs": [
    {
     "name": "stdout",
     "output_type": "stream",
     "text": [
      "0 1.0000000000000004 4.440892098500626e-16\n",
      "1 1.0000000000000002 2.220446049250313e-16\n",
      "2 1.0 1.1102230246251565e-16\n"
     ]
    }
   ],
   "source": [
    "# Underflow case\n",
    "\n",
    "small = 1/2**50\n",
    "for i in range(3):\n",
    "    small /= 2\n",
    "    print(i, 1 + small, small)"
   ]
  },
  {
   "cell_type": "code",
   "execution_count": 4,
   "metadata": {},
   "outputs": [
    {
     "name": "stdout",
     "output_type": "stream",
     "text": [
      "False\n"
     ]
    }
   ],
   "source": [
    "# Comparing floats\n",
    "\n",
    "xt = 0.1 + 0.2\n",
    "print(xt == 0.3)"
   ]
  },
  {
   "cell_type": "code",
   "execution_count": 5,
   "metadata": {},
   "outputs": [
    {
     "data": {
      "text/plain": [
       "0.30000000000000004"
      ]
     },
     "execution_count": 5,
     "metadata": {},
     "output_type": "execute_result"
    }
   ],
   "source": [
    "xt"
   ]
  },
  {
   "cell_type": "code",
   "execution_count": 6,
   "metadata": {},
   "outputs": [
    {
     "data": {
      "text/plain": [
       "5.551115123125783e-17"
      ]
     },
     "execution_count": 6,
     "metadata": {},
     "output_type": "execute_result"
    }
   ],
   "source": [
    "abs(xt - 0.3)"
   ]
  },
  {
   "cell_type": "code",
   "execution_count": 7,
   "metadata": {},
   "outputs": [
    {
     "data": {
      "text/plain": [
       "True"
      ]
     },
     "execution_count": 7,
     "metadata": {},
     "output_type": "execute_result"
    }
   ],
   "source": [
    "abs(xt - 0.3) < 1.e-12"
   ]
  },
  {
   "cell_type": "code",
   "execution_count": 8,
   "metadata": {},
   "outputs": [
    {
     "data": {
      "text/plain": [
       "1.0999999999999999"
      ]
     },
     "execution_count": 8,
     "metadata": {},
     "output_type": "execute_result"
    }
   ],
   "source": [
    "# Compensate summation (Kahan summation)\n",
    "\n",
    "(0.7 + 0.1) + 0.3"
   ]
  },
  {
   "cell_type": "code",
   "execution_count": 9,
   "metadata": {},
   "outputs": [
    {
     "data": {
      "text/plain": [
       "1.1"
      ]
     },
     "execution_count": 9,
     "metadata": {},
     "output_type": "execute_result"
    }
   ],
   "source": [
    "0.7 + (0.1 + 0.3)"
   ]
  },
  {
   "cell_type": "code",
   "execution_count": 10,
   "metadata": {},
   "outputs": [
    {
     "name": "stdout",
     "output_type": "stream",
     "text": [
      "1.0\n",
      "0.0\n"
     ]
    }
   ],
   "source": [
    "xt = 1.e20\n",
    "yt = -1.e20\n",
    "zt = 1.\n",
    "\n",
    "print( (xt + yt) + zt )\n",
    "print( xt + (yt + zt) )"
   ]
  },
  {
   "cell_type": "code",
   "execution_count": 11,
   "metadata": {},
   "outputs": [
    {
     "name": "stdout",
     "output_type": "stream",
     "text": [
      "1234567890.4499996 1234567890.45\n"
     ]
    }
   ],
   "source": [
    "def kahansum(xs): \n",
    "    s = 0.\n",
    "    e = 0. \n",
    "    for x in xs: \n",
    "        temp = s \n",
    "        y = x + e \n",
    "        s = temp + y\n",
    "        e = (temp - s) + y \n",
    "    return s\n",
    "\n",
    "\n",
    "xs = [123456789 + 0.01*i for i in range(10)]\n",
    "# xs = [0.7, 0.1, 0.3] \n",
    "print(sum(xs), kahansum(xs))"
   ]
  },
  {
   "cell_type": "markdown",
   "metadata": {},
   "source": [
    "## 编写函数与Numpy数组：热平衡时简谐振子的平均能量\n",
    "\n",
    "根据量子力学可知，简谐振子的本征能量为 $E_n = \\hbar \\omega (n + 1/2)$。温度为 $T$ 时，各本征态上的粒子布居概率为 $p_n = e^{-\\beta E_n}$，其中 $\\beta = 1 / (k_B T)$，$k_B$ 是玻尔兹曼常数。体系的平均能量应为\n",
    "\n",
    "$$\n",
    "\\bar{E} = \\frac{1}{Z} \\sum_{n=0}^{N \\to \\infty} p_n E_n, ~~~~ Z = \\sum_{n=0}^{N \\to \\infty} p_n.\n",
    "$$\n",
    "\n",
    "取 $\\hbar = \\omega = 1, \\beta = 1 / 100$。实际计算时，必须给定 $n \\leq N$（$N$为某一固定整数），具体见下面代码："
   ]
  },
  {
   "cell_type": "code",
   "execution_count": 12,
   "metadata": {},
   "outputs": [
    {
     "name": "stdout",
     "output_type": "stream",
     "text": [
      "4.917513884193951\n"
     ]
    }
   ],
   "source": [
    "'''\n",
    "qsho.py: average energy of a harmonic oscillator at finite temperature\n",
    "ref: Mark Newman's 'Computational Physics' textbook, chap. 4 (p. 135), \n",
    "but added the codes using Numpy array.\n",
    "'''\n",
    "from math import exp \n",
    "\n",
    "terms = 10     # No. of eigenstates considered (n <= terms)\n",
    "beta = 1/100   \n",
    "S = 0.0    # sum of \n",
    "Z = 0.0    \n",
    "\n",
    "for n in range(terms):\n",
    "    E = n + 0.5 \n",
    "    weight = exp(-beta*E)\n",
    "    S += weight * E \n",
    "    Z += weight \n",
    "\n",
    "print(S/Z)"
   ]
  },
  {
   "cell_type": "markdown",
   "metadata": {},
   "source": [
    "1. **试着将上面求解过程写成函数形式，类似为：**\n",
    "\n",
    "```python\n",
    "def ave_energy(beta, terms):\n",
    "    S = 0.0\n",
    "    Z = 0.0\n",
    "    #### 写下你的代码 #####\n",
    "\n",
    "    #####################\n",
    "    return S/Z\n",
    "\n",
    "beta = 1 / 100\n",
    "terms = 1000\n",
    "result = ave_energy(beta, terms)\n",
    "print(result)\n",
    "```"
   ]
  },
  {
   "cell_type": "code",
   "execution_count": 13,
   "metadata": {},
   "outputs": [
    {
     "name": "stdout",
     "output_type": "stream",
     "text": [
      "1000 99.95543134093475 0.22292137145996094\n",
      "10000 100.00083333194436 4.646778106689453\n",
      "100000 100.00083333194436 40.863990783691406\n",
      "1000000 100.00083333194436 293.6689853668213\n"
     ]
    }
   ],
   "source": [
    "from math import exp \n",
    "import time\n",
    "\n",
    "def ave_energy(beta, terms):\n",
    "    S = 0.0\n",
    "    Z = 0.0\n",
    "    for n in range(terms):\n",
    "        E = n + 0.5\n",
    "        weight = exp(-beta*E)\n",
    "        S += weight * E\n",
    "        Z += weight \n",
    "    return S / Z \n",
    "\n",
    "beta = 1/100\n",
    "terms_list = [1000, 10000, 100000, 1000000]\n",
    "\n",
    "for terms in terms_list:\n",
    "    start = time.time()\n",
    "    Eavg = ave_energy(beta, terms)\n",
    "    duration = time.time() - start     # time consuming to calculate the average energy (dependent to terms)\n",
    "    print(terms, Eavg, duration*1e3) "
   ]
  },
  {
   "cell_type": "markdown",
   "metadata": {},
   "source": [
    "2. 用`numpy`的数组替代上面的元素操作（elementwise），计算速度会大大加快，尤其是在数组比较大的情况。注意 `np.sum(), np.exp()`等。"
   ]
  },
  {
   "cell_type": "code",
   "execution_count": 14,
   "metadata": {},
   "outputs": [
    {
     "name": "stdout",
     "output_type": "stream",
     "text": [
      "1000 99.95543134093475 0.11110305786132812\n",
      "10000 100.00083333194445 0.5457401275634766\n",
      "100000 100.00083333194445 2.722024917602539\n",
      "1000000 100.00083333194445 23.294925689697266\n"
     ]
    }
   ],
   "source": [
    "import time \n",
    "import numpy as np \n",
    "\n",
    "beta = 1. / 100\n",
    "terms_list = [1000, 10000, 100000, 1000000]\n",
    "\n",
    "for terms in terms_list:\n",
    "    start = time.time()\n",
    "    E = np.arange(terms) + 0.5\n",
    "    weight = np.exp(- beta*E)\n",
    "    Z = np.sum(weight)\n",
    "    S = np.sum(weight * E)\n",
    "    duration = time.time() - start\n",
    "    print(terms, S/Z, duration*1e3) "
   ]
  },
  {
   "cell_type": "code",
   "execution_count": 15,
   "metadata": {},
   "outputs": [
    {
     "data": {
      "image/png": "[encoded data removed]",
      "text/plain": [
       "<Figure size 1000x600 with 1 Axes>"
      ]
     },
     "metadata": {},
     "output_type": "display_data"
    }
   ],
   "source": [
    "import time \n",
    "from math import exp \n",
    "import numpy as np \n",
    "import matplotlib.pyplot as plt \n",
    "\n",
    "def ave_energy1(beta, terms):\n",
    "    \"\"\"\n",
    "    逐个元素方法赋值\n",
    "    \"\"\"\n",
    "    S = 0.0\n",
    "    Z = 0.0\n",
    "    for n in range(terms):\n",
    "        E = n + 0.5\n",
    "        weight = exp(-beta*E)\n",
    "        S += weight * E\n",
    "        Z += weight \n",
    "    return S / Z \n",
    "\n",
    "def ave_energy2(beta, terms):\n",
    "    \"\"\"\n",
    "    用numpy数组直接计算\n",
    "    \"\"\"\n",
    "    E = np.arange(terms) + 0.5 \n",
    "    weight = np.exp(-beta * E)\n",
    "    return np.sum(E * weight) / np.sum(weight)\n",
    "    \n",
    "beta = 1. / 100\n",
    "# terms_list = [1000, 10000, 100000, 1000000]   # 注意必须是整数\n",
    "terms_list = [int(i) for i in [1e3, 1e4, 1e5, 1e6, 1e7]]\n",
    "E1 = []\n",
    "E2 = []\n",
    "T1 = []\n",
    "T2 = []\n",
    "\n",
    "# 注意列表可用append方法逐一添加元素\n",
    "for terms in terms_list:\n",
    "    start = time.time()\n",
    "    E1.append(ave_energy1(beta, terms))    # 逐元素循环累计求和方法计算平均能量\n",
    "    T1.append(1e3*(time.time() - start))\n",
    "\n",
    "    start = time.time()\n",
    "    E2.append(ave_energy2(beta, terms))    # 用numpy数组方法计算平均能量\n",
    "    T2.append(1e3*(time.time() - start))\n",
    "\n",
    "\n",
    "plt.figure(figsize=(10, 6))\n",
    "plt.scatter(terms_list, T1, color='blue', marker='o', label='Elementwise operation')\n",
    "plt.scatter(terms_list, T2, color='red', marker='*', label='Numpy array')\n",
    "plt.grid()\n",
    "plt.xscale(\"log\")    # 以10为底的指数坐标\n",
    "plt.xlabel('Terms')\n",
    "plt.ylabel('Calculated Time (ms)')\n",
    "plt.legend()\n",
    "plt.show()"
   ]
  },
  {
   "cell_type": "markdown",
   "metadata": {},
   "source": [
    "## 数值求导数"
   ]
  },
  {
   "cell_type": "code",
   "execution_count": 16,
   "metadata": {},
   "outputs": [
    {
     "name": "stdout",
     "output_type": "stream",
     "text": [
      "h       abs. error in fd     abs. error in cd\n",
      "1e-01 0.3077044583376249 0.0134656094697689\n",
      "1e-02 0.0260359156901186 0.0001350472492652\n",
      "1e-03 0.0025550421497806 0.0000013505116288\n",
      "1e-04 0.0002550180941236 0.0000000135077878\n",
      "1e-05 0.0000254969542519 0.0000000001051754\n",
      "1e-06 0.0000025492660578 0.0000000002500959\n",
      "1e-07 0.0000002564334673 0.0000000011382744\n",
      "1e-08 0.0000000255070782 0.0000000189018428\n",
      "1e-09 0.0000000699159992 0.0000000699159992\n",
      "1e-10 0.0000021505300500 0.0000021505300500\n",
      "1e-11 0.0000332367747395 0.0000111721462455\n",
      "1e-12 0.0001220546167096 0.0001220546167096\n",
      "1e-13 0.0023425006659599 0.0020983914325408\n"
     ]
    }
   ],
   "source": [
    "from math import sin, cos, exp\n",
    "\n",
    "def f(x):\n",
    "    # 目标函数\n",
    "    return exp(sin(2*x))\n",
    "\n",
    "def fprime(x):\n",
    "    # 目标函数导数的解析表达式\n",
    "    return 2 * cos(2*x) * exp(sin(2*x))\n",
    "\n",
    "def calc_fd(f, x, h):\n",
    "    # 前向差分\n",
    "    fd = (f(x+h) - f(x)) / h\n",
    "    return fd\n",
    "\n",
    "def calc_cd(f, x, h):\n",
    "    cd = (f(x+h/2) - f(x-h/2)) / h\n",
    "    return cd\n",
    "\n",
    "x = 0.5\n",
    "ans = fprime(x)\n",
    "\n",
    "hs = [10**(-i) for i in range(1, 14)]\n",
    "fds = [abs(calc_fd(f, x, h) - ans) for h in hs]\n",
    "cds = [abs(calc_cd(f, x, h) - ans) for h in hs]\n",
    "\n",
    "rowf = \"{0:1.0e} {1:1.16f} {2:1.16f}\" \n",
    "print(\"h       abs. error in fd     abs. error in cd\") \n",
    "for h,fd,cd in zip(hs,fds,cds): \n",
    "    print(rowf.format(h,fd,cd))"
   ]
  },
  {
   "cell_type": "code",
   "execution_count": 17,
   "metadata": {},
   "outputs": [
    {
     "data": {
      "image/png": "[encoded data removed]",
      "text/plain": [
       "<Figure size 640x480 with 1 Axes>"
      ]
     },
     "metadata": {},
     "output_type": "display_data"
    }
   ],
   "source": [
    "import matplotlib.pyplot as plt \n",
    "\n",
    "plt.loglog(hs, fds, 'b-o', hs, cds, 'r--s')\n",
    "plt.xlabel('Stepsize $h$')\n",
    "plt.ylabel('|absolute error|')\n",
    "plt.legend(['Forward Diff.', 'Central Diff.'])\n",
    "plt.show()"
   ]
  }
 ],
 "metadata": {
  "kernelspec": {
   "display_name": "Python 3 (ipykernel)",
   "language": "python",
   "name": "python3"
  },
  "language_info": {
   "codemirror_mode": {
    "name": "ipython",
    "version": 3
   },
   "file_extension": ".py",
   "mimetype": "text/x-python",
   "name": "python",
   "nbconvert_exporter": "python",
   "pygments_lexer": "ipython3",
   "version": "3.9.13"
  },
  "vscode": {
   "interpreter": {
    "hash": "ac5c16d915d699a6902de667a9d20140ceeda8362005f5d75868c75a5f909bc2"
   }
  }
 },
 "nbformat": 4,
 "nbformat_minor": 4
}
