{
 "cells": [
  {
   "cell_type": "code",
   "execution_count": 28,
   "metadata": {},
   "outputs": [
    {
     "name": "stdout",
     "output_type": "stream",
     "text": [
      "1000 99.95543134093475 0.9999275207519531\n",
      "10000 100.00083333194445 1.0004043579101562\n",
      "100000 100.00083333194445 3.0002593994140625\n",
      "1000000 100.00083333194445 52.011966705322266\n"
     ]
    }
   ],
   "source": [
    "import time\n",
    "from numpy import *\n",
    "beta=1./100\n",
    "terms_list=[1000, 10000, 100000, 1000000]\n",
    "\n",
    "for terms in terms_list:\n",
    "    start = time.time()\n",
    "    E = arange(terms) + 0.5\n",
    "    weight = exp(-beta*E)\n",
    "    Z = sum(weight)\n",
    "    S = sum(weight*E)\n",
    "    d = time.time()-start\n",
    "    print(terms,S/Z,d*1e3)"
   ]
  },
  {
   "cell_type": "markdown",
   "metadata": {},
   "source": [
    "中文测试 text"
   ]
  },
  {
   "attachments": {},
   "cell_type": "markdown",
   "metadata": {},
   "source": [
    "|学号|姓名|序号|\n",
    "|-|-|-|\n",
    "|小明|男|5|\n",
    "|小红|女|79|\n",
    "|小刚|男|192|"
   ]
  }
 ],
 "metadata": {
  "kernelspec": {
   "display_name": "Python 3 (ipykernel)",
   "language": "python",
   "name": "python3"
  },
  "language_info": {
   "codemirror_mode": {
    "name": "ipython",
    "version": 3
   },
   "file_extension": ".py",
   "mimetype": "text/x-python",
   "name": "python",
   "nbconvert_exporter": "python",
   "pygments_lexer": "ipython3",
   "version": "3.9.13"
  },
  "vscode": {
   "interpreter": {
    "hash": "88279d2366fe020547cde40dd65aa0e3aa662a6ec1f3ca12d88834876c85e1a6"
   }
  }
 },
 "nbformat": 4,
 "nbformat_minor": 2
}
