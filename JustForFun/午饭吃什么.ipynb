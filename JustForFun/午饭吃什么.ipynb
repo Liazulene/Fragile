{
 "cells": [
  {
   "cell_type": "code",
   "execution_count": 1,
   "metadata": {},
   "outputs": [
    {
     "name": "stdout",
     "output_type": "stream",
     "text": [
      "今天是星期四，下一顿饭的选择是：1F-面\n"
     ]
    }
   ],
   "source": [
    "import random\n",
    "import numpy as np\n",
    "import time\n",
    "import datetime\n",
    "\n",
    "random.seed(time.time())\n",
    "\n",
    "today = datetime.date.today()\n",
    "day_of_week = today.weekday()\n",
    "\n",
    "# 星期名称的中文列表\n",
    "chinese_weekdays = [\"星期一\", \"星期二\", \"星期三\", \"星期四\", \"星期五\", \"星期六\", \"星期日\"]\n",
    "\n",
    "# 饭菜种类列表\n",
    "lunch_choices = ['1F-面','1F-馄饨','1F-窗口','1F-鱼粉','1F-烤盘饭','2F-烤鱼','2F-蛋包饭','2F-豫陕烩','2F-蜀汉缘','2F-麻辣香锅','2F-烧腊','2F-黄焖鸡','2F-鱼喵喵','2F-汉堡','2F-云蒸味绕','2F-瓦罐汤']\n",
    "length = len(lunch_choices)\n",
    "weights = np.ones(length)\n",
    "total_sum = sum(weights)\n",
    "weights /= total_sum\n",
    "# print(weights)\n",
    "\n",
    "# 每个周四有概率选择KFC疯狂星期四，概率为p_kfc\n",
    "p_kfc = 0.1\n",
    "\n",
    "if day_of_week == 3 and random.random() < p_kfc:\n",
    "    special_lunch = \"KFC疯狂星期四，vivo50\"\n",
    "    print(f\"今天是{chinese_weekdays[day_of_week]}，因此你触发了只有{p_kfc*100}%概率选择的：{special_lunch}\")\n",
    "else:\n",
    "    # 随机选择正常午饭种类\n",
    "    lunch_choice = random.choices(lunch_choices, weights=weights)[0]\n",
    "    print(f\"今天是{chinese_weekdays[day_of_week]}，下一顿饭的选择是：{lunch_choice}\")\n"
   ]
  }
 ],
 "metadata": {
  "kernelspec": {
   "display_name": "base",
   "language": "python",
   "name": "python3"
  },
  "language_info": {
   "codemirror_mode": {
    "name": "ipython",
    "version": 3
   },
   "file_extension": ".py",
   "mimetype": "text/x-python",
   "name": "python",
   "nbconvert_exporter": "python",
   "pygments_lexer": "ipython3",
   "version": "3.10.9"
  }
 },
 "nbformat": 4,
 "nbformat_minor": 2
}
